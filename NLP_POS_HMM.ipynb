{
 "cells": [
  {
   "cell_type": "code",
   "execution_count": 1,
   "metadata": {},
   "outputs": [],
   "source": [
    "'''\n",
    "magic command from IPython extension to reload modules before executing user code\n",
    "https://ipython.readthedocs.io/en/stable/config/extensions/autoreload.html\n",
    "'''\n",
    "\n",
    "%load_ext autoreload\n",
    "%autoreload 2"
   ]
  },
  {
   "cell_type": "code",
   "execution_count": 31,
   "metadata": {
    "cell_id": "9e3128f4-9733-4f52-8fdf-e883d27eaa1e",
    "deepnote_cell_height": 150,
    "deepnote_cell_type": "code",
    "deepnote_to_be_reexecuted": false,
    "execution_millis": 59,
    "execution_start": 1647783307657,
    "source_hash": "2f19d1f9",
    "tags": []
   },
   "outputs": [],
   "source": [
    "import numpy as np\n",
    "import pandas as pd\n",
    "from io import StringIO\n",
    "import csv\n",
    "import sys\n",
    "from tqdm.notebook import tqdm"
   ]
  },
  {
   "cell_type": "code",
   "execution_count": 3,
   "metadata": {
    "cell_id": "fd54949b-6137-486b-85f6-b97baa928aeb",
    "deepnote_cell_height": 298.796875,
    "deepnote_cell_type": "code",
    "deepnote_output_heights": [
     null,
     611
    ],
    "deepnote_table_loading": false,
    "deepnote_table_state": {
     "filters": [],
     "pageIndex": 0,
     "pageSize": 10,
     "sortBy": []
    },
    "deepnote_to_be_reexecuted": false,
    "execution_millis": 15824,
    "execution_start": 1647793185381,
    "source_hash": "40047ff8",
    "tags": []
   },
   "outputs": [],
   "source": [
    "'''\n",
    "collecting corpus, split by double end\n",
    "'''\n",
    "\n",
    "collection = []\n",
    "\n",
    "with open(\"./data/Indonesian_Manually_Tagged_Corpus.tsv\", \"r\") as f:\n",
    "    txt_file = f.read()\n",
    "\n",
    "for sentence in txt_file.split('\\n\\n'):\n",
    "    temp = pd.read_csv(StringIO(sentence), delimiter='\\t', header=None, quoting=csv.QUOTE_NONE)\n",
    "    collection.append(temp.to_numpy())\n",
    "\n",
    "collection = np.array(collection, dtype=object)"
   ]
  },
  {
   "cell_type": "code",
   "execution_count": 4,
   "metadata": {
    "cell_id": "0f7679da-657e-4643-bffe-7dd5be373767",
    "deepnote_cell_height": 117,
    "deepnote_cell_type": "code",
    "deepnote_to_be_reexecuted": false,
    "execution_millis": 121,
    "execution_start": 1647781188543,
    "source_hash": "7f99c728",
    "tags": []
   },
   "outputs": [],
   "source": [
    "TRAINING_PERCENTAGE = 70\n",
    "VALIDATION_PERCENTAGE = 10\n",
    "TESTING_PERCENTAGE = 20"
   ]
  },
  {
   "cell_type": "code",
   "execution_count": 5,
   "metadata": {
    "cell_id": "b8eb6a95-e6f7-45ba-b9ee-e83e473517fd",
    "deepnote_cell_height": 207,
    "deepnote_cell_type": "code",
    "deepnote_to_be_reexecuted": false,
    "execution_millis": 33,
    "execution_start": 1647781188673,
    "source_hash": "ae146828",
    "tags": []
   },
   "outputs": [],
   "source": [
    "'''\n",
    "shuffling collection data, and divide the data into training set, validation set, and testing set\n",
    "'''\n",
    "\n",
    "np.random.shuffle(collection)\n",
    "\n",
    "training_count = round(len(collection) * TRAINING_PERCENTAGE / 100)\n",
    "validation_count = round((len(collection) - training_count) * VALIDATION_PERCENTAGE / (100 - TRAINING_PERCENTAGE))\n",
    "\n",
    "training = collection[0 : training_count]\n",
    "validation = collection[training_count : training_count + validation_count]\n",
    "testing = collection[training_count + validation_count : ]"
   ]
  },
  {
   "cell_type": "code",
   "execution_count": 67,
   "metadata": {
    "cell_id": "d6316934-38cd-4c56-93b4-58b615e0a153",
    "deepnote_cell_height": 264,
    "deepnote_cell_type": "code",
    "deepnote_output_heights": [
     21.1875,
     347.59375
    ],
    "deepnote_to_be_reexecuted": false,
    "execution_millis": 915,
    "execution_start": 1647797558454,
    "source_hash": "f54aecd3",
    "tags": []
   },
   "outputs": [
    {
     "name": "stdout",
     "output_type": "stream",
     "text": [
      "[7021/7021]\t|██████████████████████████████████████████████████|\n",
      "finished..."
     ]
    }
   ],
   "source": [
    "from PosTagging import PosTagging\n",
    "tagger = PosTagging(training)\n",
    "emit, transition, context = tagger.evaluateFeed()"
   ]
  },
  {
   "cell_type": "code",
   "execution_count": 70,
   "metadata": {
    "cell_id": "d6316934-38cd-4c56-93b4-58b615e0a153",
    "deepnote_cell_height": 264,
    "deepnote_cell_type": "code",
    "deepnote_output_heights": [
     21.1875,
     347.59375
    ],
    "deepnote_to_be_reexecuted": false,
    "execution_millis": 915,
    "execution_start": 1647797558454,
    "source_hash": "f54aecd3",
    "tags": []
   },
   "outputs": [
    {
     "name": "stdout",
     "output_type": "stream",
     "text": [
      "['NN', 'NN', 'PR', 'NN', 'NN', 'NN', 'SC', 'VB', 'IN', 'NN', 'OD', 'CD', 'Z', 'CC', 'NN', 'PRP', 'MD', 'VB', 'IN', 'NN', 'OD', 'CD', 'Z', 'VB', 'NNP', 'NNP', 'Z', 'SC', 'VB', 'IN', 'NNP', 'Z', 'NNP', 'NNP']\n"
     ]
    }
   ],
   "source": [
    "i = 0\n",
    "tags = tagger.predict(validation[i])\n",
    "print(tags)"
   ]
  },
  {
   "cell_type": "code",
   "execution_count": 43,
   "metadata": {},
   "outputs": [
    {
     "data": {
      "text/plain": [
       "array([['Penurunan', 'NN'],\n",
       "       ['produksi', 'NN'],\n",
       "       ['ini', 'PR'],\n",
       "       ['akibat', 'NN'],\n",
       "       ['dampak', 'NN'],\n",
       "       ['musim kering', 'NN'],\n",
       "       ['yang', 'SC'],\n",
       "       ['terjadi', 'VB'],\n",
       "       ['pada', 'IN'],\n",
       "       ['semester', 'NN'],\n",
       "       ['II', 'OD'],\n",
       "       ['2006', 'CD'],\n",
       "       [',', 'Z'],\n",
       "       ['dan', 'CC'],\n",
       "       ['dampak', 'NN'],\n",
       "       ['-nya', 'PRP'],\n",
       "       ['masih', 'MD'],\n",
       "       ['dirasakan', 'VB'],\n",
       "       ['pada', 'IN'],\n",
       "       ['kuartal', 'NN'],\n",
       "       ['pertama', 'OD'],\n",
       "       ['2007', 'CD'],\n",
       "       [',', 'Z'],\n",
       "       ['kata', 'VB'],\n",
       "       ['Direktur', 'NNP'],\n",
       "       ['AALI', 'NNP'],\n",
       "       [',', 'Z'],\n",
       "       ['Julie', 'NNP'],\n",
       "       ['Syaftari', 'NNP'],\n",
       "       ['kepada', 'IN'],\n",
       "       ['BEJ', 'NNP'],\n",
       "       [',', 'Z'],\n",
       "       ['Kamis', 'NNP'],\n",
       "       ['.', 'Z']], dtype=object)"
      ]
     },
     "execution_count": 43,
     "metadata": {},
     "output_type": "execute_result"
    }
   ],
   "source": [
    "validation[0]"
   ]
  },
  {
   "cell_type": "code",
   "execution_count": 90,
   "metadata": {},
   "outputs": [],
   "source": [
    "def get_tag_accuracy(__lambda, data):\n",
    "    wrong = 0\n",
    "    right = 0\n",
    "    for i in tqdm(range(len(data)), colour=\"YELLOW\"):\n",
    "        tagger.set_lambda(__lambda)\n",
    "        tags = tagger.predict(data[i])\n",
    "        for j in range(len(tags)):\n",
    "            if tags[j] == data[i][j][1]: right += 1 \n",
    "            else: wrong += 1\n",
    "    return float((right/(right+wrong)))"
   ]
  },
  {
   "cell_type": "code",
   "execution_count": 96,
   "metadata": {},
   "outputs": [
    {
     "data": {
      "application/vnd.jupyter.widget-view+json": {
       "model_id": "7bcadfb44a6a4e708221d8a68b50d60d",
       "version_major": 2,
       "version_minor": 0
      },
      "text/plain": [
       "  0%|          | 0/10 [00:00<?, ?it/s]"
      ]
     },
     "metadata": {},
     "output_type": "display_data"
    },
    {
     "data": {
      "application/vnd.jupyter.widget-view+json": {
       "model_id": "fec92074602248e9821fc90fb2c275c9",
       "version_major": 2,
       "version_minor": 0
      },
      "text/plain": [
       "  0%|          | 0/1003 [00:00<?, ?it/s]"
      ]
     },
     "metadata": {},
     "output_type": "display_data"
    },
    {
     "data": {
      "application/vnd.jupyter.widget-view+json": {
       "model_id": "ba25c6da4ab64a23b6e7273a44f5cb87",
       "version_major": 2,
       "version_minor": 0
      },
      "text/plain": [
       "  0%|          | 0/1003 [00:00<?, ?it/s]"
      ]
     },
     "metadata": {},
     "output_type": "display_data"
    },
    {
     "data": {
      "application/vnd.jupyter.widget-view+json": {
       "model_id": "fb6181a59a3c444ebc263a4a52b58506",
       "version_major": 2,
       "version_minor": 0
      },
      "text/plain": [
       "  0%|          | 0/1003 [00:00<?, ?it/s]"
      ]
     },
     "metadata": {},
     "output_type": "display_data"
    },
    {
     "data": {
      "application/vnd.jupyter.widget-view+json": {
       "model_id": "b2d680ba6cb34f06adc66ff86f1e5806",
       "version_major": 2,
       "version_minor": 0
      },
      "text/plain": [
       "  0%|          | 0/1003 [00:00<?, ?it/s]"
      ]
     },
     "metadata": {},
     "output_type": "display_data"
    },
    {
     "data": {
      "application/vnd.jupyter.widget-view+json": {
       "model_id": "1fc137bd1bff4b42bf4859d324821ecf",
       "version_major": 2,
       "version_minor": 0
      },
      "text/plain": [
       "  0%|          | 0/1003 [00:00<?, ?it/s]"
      ]
     },
     "metadata": {},
     "output_type": "display_data"
    },
    {
     "data": {
      "application/vnd.jupyter.widget-view+json": {
       "model_id": "3256449fd0924c208519608f14f237c1",
       "version_major": 2,
       "version_minor": 0
      },
      "text/plain": [
       "  0%|          | 0/1003 [00:00<?, ?it/s]"
      ]
     },
     "metadata": {},
     "output_type": "display_data"
    },
    {
     "data": {
      "application/vnd.jupyter.widget-view+json": {
       "model_id": "10ede1fdec504f4b825e5ea115075d21",
       "version_major": 2,
       "version_minor": 0
      },
      "text/plain": [
       "  0%|          | 0/1003 [00:00<?, ?it/s]"
      ]
     },
     "metadata": {},
     "output_type": "display_data"
    },
    {
     "data": {
      "application/vnd.jupyter.widget-view+json": {
       "model_id": "e9fe62fc39774e1db40b2fc0fc8261cd",
       "version_major": 2,
       "version_minor": 0
      },
      "text/plain": [
       "  0%|          | 0/1003 [00:00<?, ?it/s]"
      ]
     },
     "metadata": {},
     "output_type": "display_data"
    },
    {
     "data": {
      "application/vnd.jupyter.widget-view+json": {
       "model_id": "ed1d1c29ff2f46699f570abddee80564",
       "version_major": 2,
       "version_minor": 0
      },
      "text/plain": [
       "  0%|          | 0/1003 [00:00<?, ?it/s]"
      ]
     },
     "metadata": {},
     "output_type": "display_data"
    },
    {
     "data": {
      "application/vnd.jupyter.widget-view+json": {
       "model_id": "dd273317d02a4727a440669d57a8268d",
       "version_major": 2,
       "version_minor": 0
      },
      "text/plain": [
       "  0%|          | 0/1003 [00:00<?, ?it/s]"
      ]
     },
     "metadata": {},
     "output_type": "display_data"
    },
    {
     "data": {
      "text/plain": [
       "[0.1363323124042879,\n",
       " 0.8134762633996937,\n",
       " 0.8504977029096478,\n",
       " 0.8674961715160796,\n",
       " 0.8796324655436447,\n",
       " 0.8875957120980091,\n",
       " 0.8958269525267993,\n",
       " 0.9033690658499234,\n",
       " 0.9088820826952527,\n",
       " 0.9136676875957122]"
      ]
     },
     "execution_count": 96,
     "metadata": {},
     "output_type": "execute_result"
    }
   ],
   "source": [
    "__lambda = 0.0\n",
    "step_up = 0.1\n",
    "lambda_values = []\n",
    "ctr = 0\n",
    "for i in tqdm(range(int(1.0/step_up))):\n",
    "    lambda_values.append(get_tag_accuracy(__lambda, validation))\n",
    "    __lambda +=step_up\n",
    "lambda_values"
   ]
  },
  {
   "cell_type": "code",
   "execution_count": 99,
   "metadata": {},
   "outputs": [
    {
     "data": {
      "text/plain": [
       "0.9136676875957122"
      ]
     },
     "execution_count": 99,
     "metadata": {},
     "output_type": "execute_result"
    }
   ],
   "source": [
    "best_lambda = np.amax(lambda_values)\n",
    "best_lambda"
   ]
  },
  {
   "cell_type": "code",
   "execution_count": 102,
   "metadata": {},
   "outputs": [
    {
     "data": {
      "application/vnd.jupyter.widget-view+json": {
       "model_id": "6d871170401b4868bcc660c8c3357ebb",
       "version_major": 2,
       "version_minor": 0
      },
      "text/plain": [
       "  0%|          | 0/2006 [00:00<?, ?it/s]"
      ]
     },
     "metadata": {},
     "output_type": "display_data"
    },
    {
     "data": {
      "text/plain": [
       "0.9152820673208492"
      ]
     },
     "metadata": {},
     "output_type": "display_data"
    }
   ],
   "source": [
    "accuracy = get_tag_accuracy(best_lambda, testing)\n",
    "display(accuracy)"
   ]
  }
 ],
 "metadata": {
  "deepnote": {
   "is_reactive": false
  },
  "deepnote_execution_queue": [],
  "deepnote_notebook_id": "1c39d1b8-a121-407d-bb2d-a13366ab8c48",
  "kernelspec": {
   "display_name": "Python 3",
   "language": "python",
   "name": "python3"
  },
  "language_info": {
   "codemirror_mode": {
    "name": "ipython",
    "version": 3
   },
   "file_extension": ".py",
   "mimetype": "text/x-python",
   "name": "python",
   "nbconvert_exporter": "python",
   "pygments_lexer": "ipython3",
   "version": "3.9.7"
  }
 },
 "nbformat": 4,
 "nbformat_minor": 4
}

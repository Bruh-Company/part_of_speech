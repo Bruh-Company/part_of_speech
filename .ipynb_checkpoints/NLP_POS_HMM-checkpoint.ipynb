{
 "cells": [
  {
   "cell_type": "markdown",
   "metadata": {
    "tags": []
   },
   "source": [
    "# Part of Speech Tagging with Hidden Markov Model\n",
    "\n",
    "Dikerjakan oleh:\n",
    "* Bryan Christopher - 219116780\n",
    "* Christian Budhi Sabdana - 219116781\n",
    "* Christian Trisno Sen Long Chen - 219116782"
   ]
  },
  {
   "cell_type": "code",
   "execution_count": 1,
   "metadata": {},
   "outputs": [],
   "source": [
    "'''\n",
    "magic command from IPython extension to reload modules before executing user code\n",
    "https://ipython.readthedocs.io/en/stable/config/extensions/autoreload.html\n",
    "'''\n",
    "\n",
    "%load_ext autoreload\n",
    "%autoreload 2"
   ]
  },
  {
   "cell_type": "code",
   "execution_count": 2,
   "metadata": {
    "cell_id": "9e3128f4-9733-4f52-8fdf-e883d27eaa1e",
    "deepnote_cell_height": 150,
    "deepnote_cell_type": "code",
    "deepnote_to_be_reexecuted": false,
    "execution_millis": 59,
    "execution_start": 1647783307657,
    "source_hash": "2f19d1f9",
    "tags": []
   },
   "outputs": [],
   "source": [
    "import numpy as np\n",
    "import pandas as pd\n",
    "from io import StringIO\n",
    "import csv\n",
    "import sys\n",
    "from tqdm.notebook import tqdm"
   ]
  },
  {
   "cell_type": "code",
   "execution_count": 3,
   "metadata": {
    "cell_id": "fd54949b-6137-486b-85f6-b97baa928aeb",
    "deepnote_cell_height": 298.796875,
    "deepnote_cell_type": "code",
    "deepnote_output_heights": [
     null,
     611
    ],
    "deepnote_table_loading": false,
    "deepnote_table_state": {
     "filters": [],
     "pageIndex": 0,
     "pageSize": 10,
     "sortBy": []
    },
    "deepnote_to_be_reexecuted": false,
    "execution_millis": 15824,
    "execution_start": 1647793185381,
    "source_hash": "40047ff8",
    "tags": []
   },
   "outputs": [],
   "source": [
    "'''\n",
    "collecting corpus, split by double end\n",
    "'''\n",
    "\n",
    "collection = []\n",
    "\n",
    "with open(\"./data/Indonesian_Manually_Tagged_Corpus.tsv\", \"r\") as f:\n",
    "    txt_file = f.read()\n",
    "\n",
    "for sentence in txt_file.split('\\n\\n'):\n",
    "    temp = pd.read_csv(StringIO(sentence), delimiter='\\t', header=None, quoting=csv.QUOTE_NONE)\n",
    "    collection.append(temp.to_numpy())\n",
    "\n",
    "collection = np.array(collection, dtype=object)"
   ]
  },
  {
   "cell_type": "markdown",
   "metadata": {
    "tags": []
   },
   "source": [
    "## Splitting the data"
   ]
  },
  {
   "cell_type": "code",
   "execution_count": 4,
   "metadata": {
    "cell_id": "0f7679da-657e-4643-bffe-7dd5be373767",
    "deepnote_cell_height": 117,
    "deepnote_cell_type": "code",
    "deepnote_to_be_reexecuted": false,
    "execution_millis": 121,
    "execution_start": 1647781188543,
    "source_hash": "7f99c728",
    "tags": []
   },
   "outputs": [],
   "source": [
    "TRAINING_PERCENTAGE = 70\n",
    "VALIDATION_PERCENTAGE = 10\n",
    "TESTING_PERCENTAGE = 20"
   ]
  },
  {
   "cell_type": "code",
   "execution_count": 5,
   "metadata": {
    "cell_id": "b8eb6a95-e6f7-45ba-b9ee-e83e473517fd",
    "deepnote_cell_height": 207,
    "deepnote_cell_type": "code",
    "deepnote_to_be_reexecuted": false,
    "execution_millis": 33,
    "execution_start": 1647781188673,
    "source_hash": "ae146828",
    "tags": []
   },
   "outputs": [],
   "source": [
    "'''\n",
    "shuffling collection data, and divide the data into training set, validation set, and testing set\n",
    "'''\n",
    "\n",
    "np.random.shuffle(collection)\n",
    "\n",
    "training_count = round(len(collection) * TRAINING_PERCENTAGE / 100)\n",
    "validation_count = round((len(collection) - training_count) * VALIDATION_PERCENTAGE / (100 - TRAINING_PERCENTAGE))\n",
    "\n",
    "training = collection[0 : training_count]\n",
    "validation = collection[training_count : training_count + validation_count]\n",
    "testing = collection[training_count + validation_count : ]"
   ]
  },
  {
   "cell_type": "markdown",
   "metadata": {
    "tags": []
   },
   "source": [
    "## Using POS Tagging Class\n",
    "This section will train to get all of the occurence for the emmission and transition"
   ]
  },
  {
   "cell_type": "code",
   "execution_count": 6,
   "metadata": {
    "cell_id": "d6316934-38cd-4c56-93b4-58b615e0a153",
    "deepnote_cell_height": 264,
    "deepnote_cell_type": "code",
    "deepnote_output_heights": [
     21.1875,
     347.59375
    ],
    "deepnote_to_be_reexecuted": false,
    "execution_millis": 915,
    "execution_start": 1647797558454,
    "source_hash": "f54aecd3",
    "tags": []
   },
   "outputs": [
    {
     "name": "stdout",
     "output_type": "stream",
     "text": [
      "[7021/7021]\t|██████████████████████████████████████████████████|\n",
      "finished..."
     ]
    }
   ],
   "source": [
    "from PosTagging import PosTagging\n",
    "tagger = PosTagging(training)\n",
    "_,_,_ = tagger.train()"
   ]
  },
  {
   "cell_type": "markdown",
   "metadata": {
    "tags": []
   },
   "source": [
    "### Get the Best Value for Lambda\n",
    "We will use the validation data to get the best lambda. Note that this will use the basic viterby algorthm but will brute force to get the best lambda by iterating 0.0 to 1.0 with 0.01 as a step-up"
   ]
  },
  {
   "cell_type": "code",
   "execution_count": 7,
   "metadata": {
    "cell_id": "d6316934-38cd-4c56-93b4-58b615e0a153",
    "deepnote_cell_height": 264,
    "deepnote_cell_type": "code",
    "deepnote_output_heights": [
     21.1875,
     347.59375
    ],
    "deepnote_to_be_reexecuted": false,
    "execution_millis": 915,
    "execution_start": 1647797558454,
    "source_hash": "f54aecd3",
    "tags": []
   },
   "outputs": [
    {
     "data": {
      "application/vnd.jupyter.widget-view+json": {
       "model_id": "dd011bc222454f10b3351078a2f28897",
       "version_major": 2,
       "version_minor": 0
      },
      "text/plain": [
       "  0%|          | 0/100 [00:00<?, ?it/s]"
      ]
     },
     "metadata": {},
     "output_type": "display_data"
    },
    {
     "data": {
      "text/plain": [
       "[(0.9500000000000006, 0.918149878383074),\n",
       " (0.9600000000000006, 0.9186131809582642),\n",
       " (0.9700000000000006, 0.9187676151499942),\n",
       " (0.9800000000000006, 0.9193081348210493),\n",
       " (0.9900000000000007, 0.919578394656577)]"
      ]
     },
     "execution_count": 7,
     "metadata": {},
     "output_type": "execute_result"
    }
   ],
   "source": [
    "lambdas = tagger.validate(validation, 0.01)\n",
    "lambdas[-5:]"
   ]
  },
  {
   "cell_type": "markdown",
   "metadata": {},
   "source": [
    "### Testing\n",
    "After getting the best accuracy, we will take the lambda as a parameter for testing.\n",
    "In this Testing we use 0.99 as the lambda and got 91.80% for the accuracy"
   ]
  },
  {
   "cell_type": "code",
   "execution_count": 8,
   "metadata": {},
   "outputs": [
    {
     "data": {
      "text/plain": [
       "0.9900000000000007"
      ]
     },
     "execution_count": 8,
     "metadata": {},
     "output_type": "execute_result"
    }
   ],
   "source": [
    "best_lambdas = np.amax(lambdas)\n",
    "best_lambdas"
   ]
  },
  {
   "cell_type": "code",
   "execution_count": 9,
   "metadata": {},
   "outputs": [
    {
     "name": "stdout",
     "output_type": "stream",
     "text": [
      "Test Accuracy: 91.68%\n"
     ]
    }
   ],
   "source": [
    "test_accuracy_1 = tagger.test(testing, best_lambdas)\n",
    "print(\"Test Accuracy: {:.2%}\".format(test_accuracy_1))"
   ]
  },
  {
   "cell_type": "markdown",
   "metadata": {},
   "source": [
    "### Get the Best Value for Lambda With Ternary Search\n",
    "In this section we will try to use ternary search to find the best lambda rather than using brute force"
   ]
  },
  {
   "cell_type": "code",
   "execution_count": 10,
   "metadata": {},
   "outputs": [
    {
     "name": "stdout",
     "output_type": "stream",
     "text": [
      "started...\n",
      "[try 23 ]  left ptr 0.9974 | right ptr 0.9975 | delta 0.0000 | best 0.9198 | time 4.3438\r"
     ]
    },
    {
     "data": {
      "text/plain": [
       "(0.99743693209634, 0.9197714373962396)"
      ]
     },
     "execution_count": 10,
     "metadata": {},
     "output_type": "execute_result"
    }
   ],
   "source": [
    "ternary_lambdas = tagger.validate_with_ternary_search(validation)\n",
    "ternary_lambdas"
   ]
  },
  {
   "cell_type": "markdown",
   "metadata": {},
   "source": [
    "### Testing\n",
    "After getting the best accuracy, we will take the lambda as a parameter for testing.\n",
    "In this Testing we use 0.917477 as the lambda and got 91.82% for the accuracy"
   ]
  },
  {
   "cell_type": "code",
   "execution_count": 11,
   "metadata": {},
   "outputs": [
    {
     "name": "stdout",
     "output_type": "stream",
     "text": [
      "Test Accuracy: 91.69%\n"
     ]
    }
   ],
   "source": [
    "test_accuracy_2 = tagger.test(testing, ternary_lambdas[0])\n",
    "print(\"Test Accuracy: {:.2%}\".format(test_accuracy_2))"
   ]
  }
 ],
 "metadata": {
  "deepnote": {
   "is_reactive": false
  },
  "deepnote_execution_queue": [],
  "deepnote_notebook_id": "1c39d1b8-a121-407d-bb2d-a13366ab8c48",
  "kernelspec": {
   "display_name": "Python 3",
   "language": "python",
   "name": "python3"
  },
  "language_info": {
   "codemirror_mode": {
    "name": "ipython",
    "version": 3
   },
   "file_extension": ".py",
   "mimetype": "text/x-python",
   "name": "python",
   "nbconvert_exporter": "python",
   "pygments_lexer": "ipython3",
   "version": "3.9.7"
  }
 },
 "nbformat": 4,
 "nbformat_minor": 4
}

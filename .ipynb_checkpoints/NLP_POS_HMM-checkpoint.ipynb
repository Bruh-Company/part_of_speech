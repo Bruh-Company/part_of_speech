{
 "cells": [
  {
   "cell_type": "code",
   "execution_count": null,
   "metadata": {},
   "outputs": [],
   "source": []
  },
  {
   "cell_type": "code",
   "execution_count": null,
   "metadata": {
    "cell_id": "c9c820ac-8fde-4c92-850b-0f706e7207a9",
    "deepnote_cell_height": 153,
    "deepnote_cell_type": "code",
    "deepnote_to_be_reexecuted": false,
    "execution_millis": 52,
    "execution_start": 1647781158230,
    "source_hash": "e203fa1e",
    "tags": []
   },
   "outputs": [],
   "source": [
    "from PosTagging import PosTagging\n",
    "import numpy as np\n",
    "import pandas as pd\n",
    "from io import StringIO\n",
    "import csv"
   ]
  },
  {
   "cell_type": "code",
   "execution_count": null,
   "metadata": {
    "cell_id": "9e3128f4-9733-4f52-8fdf-e883d27eaa1e",
    "deepnote_cell_height": 150,
    "deepnote_cell_type": "code",
    "deepnote_to_be_reexecuted": false,
    "execution_millis": 59,
    "execution_start": 1647783307657,
    "source_hash": "2f19d1f9",
    "tags": []
   },
   "outputs": [
    {
     "name": "stdout",
     "output_type": "stream",
     "text": [
      "The autoreload extension is already loaded. To reload it, use:\n",
      "  %reload_ext autoreload\n"
     ]
    }
   ],
   "source": [
    "%load_ext autoreload\n",
    "%autoreload 2"
   ]
  },
  {
   "cell_type": "code",
   "execution_count": null,
   "metadata": {
    "cell_id": "fd54949b-6137-486b-85f6-b97baa928aeb",
    "deepnote_cell_height": 298.796875,
    "deepnote_cell_type": "code",
    "deepnote_output_heights": [
     null,
     611
    ],
    "deepnote_table_loading": false,
    "deepnote_table_state": {
     "filters": [],
     "pageIndex": 0,
     "pageSize": 10,
     "sortBy": []
    },
    "deepnote_to_be_reexecuted": false,
    "execution_millis": 15824,
    "execution_start": 1647793185381,
    "source_hash": "40047ff8",
    "tags": []
   },
   "outputs": [
    {
     "name": "stderr",
     "output_type": "stream",
     "text": [
      "C:\\Users\\CHRIST~1\\AppData\\Local\\Temp/ipykernel_16292/1516114048.py:10: VisibleDeprecationWarning: Creating an ndarray from ragged nested sequences (which is a list-or-tuple of lists-or-tuples-or ndarrays with different lengths or shapes) is deprecated. If you meant to do this, you must specify 'dtype=object' when creating the ndarray.\n",
      "  collection = np.array(collection)\n"
     ]
    }
   ],
   "source": [
    "collection = []\n",
    "\n",
    "with open(\"./data/Indonesian_Manually_Tagged_Corpus.tsv\", \"r\") as f:\n",
    "    txt_file = f.read()\n",
    "\n",
    "for sentence in txt_file.split('\\n\\n'):\n",
    "    temp = pd.read_csv(StringIO(sentence), delimiter='\\t', header=None, quoting=csv.QUOTE_NONE)\n",
    "    collection.append(temp.to_numpy())\n",
    "\n",
    "collection = np.array(collection)"
   ]
  },
  {
   "cell_type": "code",
   "execution_count": null,
   "metadata": {
    "cell_id": "0f7679da-657e-4643-bffe-7dd5be373767",
    "deepnote_cell_height": 117,
    "deepnote_cell_type": "code",
    "deepnote_to_be_reexecuted": false,
    "execution_millis": 121,
    "execution_start": 1647781188543,
    "source_hash": "7f99c728",
    "tags": []
   },
   "outputs": [],
   "source": [
    "TRAINING_PERCENTAGE = 70\n",
    "VALIDATION_PERCENTAGE = 10\n",
    "TESTING_PERCENTAGE = 20"
   ]
  },
  {
   "cell_type": "code",
   "execution_count": null,
   "metadata": {
    "cell_id": "b8eb6a95-e6f7-45ba-b9ee-e83e473517fd",
    "deepnote_cell_height": 207,
    "deepnote_cell_type": "code",
    "deepnote_to_be_reexecuted": false,
    "execution_millis": 33,
    "execution_start": 1647781188673,
    "source_hash": "ae146828",
    "tags": []
   },
   "outputs": [],
   "source": [
    "np.random.shuffle(collection)\n",
    "\n",
    "training_count = round(len(collection) * TRAINING_PERCENTAGE / 100)\n",
    "validation_count = round((len(collection) - training_count) * VALIDATION_PERCENTAGE / (100 - TRAINING_PERCENTAGE))\n",
    "\n",
    "training = collection[0:training_count]\n",
    "validation = collection[training_count:training_count+validation_count]\n",
    "testing = collection[training_count+validation_count:]"
   ]
  },
  {
   "cell_type": "code",
   "execution_count": null,
   "metadata": {
    "cell_id": "3d240649-a30e-4951-9710-7572aabc3c6f",
    "deepnote_cell_height": 118.1875,
    "deepnote_cell_type": "code",
    "deepnote_output_heights": [
     21.1875
    ],
    "deepnote_to_be_reexecuted": false,
    "execution_millis": 457,
    "execution_start": 1647788502920,
    "source_hash": "dbd6ccd0",
    "tags": []
   },
   "outputs": [
    {
     "data": {
      "text/plain": [
       "7021"
      ]
     },
     "execution_count": 13,
     "metadata": {},
     "output_type": "execute_result"
    }
   ],
   "source": [
    "len(training)"
   ]
  },
  {
   "cell_type": "code",
   "execution_count": null,
   "metadata": {
    "cell_id": "10145fb2-578f-48e3-896c-50ba3253bbb6",
    "deepnote_cell_height": 280.796875,
    "deepnote_cell_type": "code",
    "deepnote_to_be_reexecuted": false,
    "execution_millis": 1181,
    "execution_start": 1647783344805,
    "source_hash": "a37ee0d2",
    "tags": []
   },
   "outputs": [
    {
     "name": "stdout",
     "output_type": "stream",
     "text": [
      "bruh\n"
     ]
    }
   ],
   "source": [
    "from PosTagging import PosTagging\n",
    "tagger = PosTagging(training)\n",
    "emit, transition, context = tagger.evaluateFeed()\n",
    "print(\"bruh\")\n",
    "# Emit\n",
    "# Tag - [{Words - Counter}]\n",
    "# Transition\n",
    "# Word - [{Tag - Counter}]\n",
    "# Context\n",
    "# [Tag - Counter]"
   ]
  },
  {
   "cell_type": "code",
   "execution_count": null,
   "metadata": {
    "cell_id": "0726e516-9baf-458b-b965-5980f5fd1dec",
    "deepnote_cell_height": 708,
    "deepnote_cell_type": "code",
    "deepnote_output_heights": [
     611
    ],
    "deepnote_to_be_reexecuted": false,
    "execution_millis": 47,
    "execution_start": 1647782970785,
    "source_hash": "34a43ba5",
    "tags": []
   },
   "outputs": [
    {
     "data": {
      "text/plain": [
       "25"
      ]
     },
     "execution_count": 20,
     "metadata": {},
     "output_type": "execute_result"
    }
   ],
   "source": [
    "len(transition)"
   ]
  },
  {
   "cell_type": "code",
   "execution_count": null,
   "metadata": {
    "cell_id": "78e9387a-cb7c-4a3c-99fc-10e388ad31a4",
    "deepnote_cell_height": 559.78125,
    "deepnote_cell_type": "code",
    "deepnote_output_heights": [
     462.796875
    ],
    "deepnote_to_be_reexecuted": false,
    "execution_millis": 47,
    "execution_start": 1647781190147,
    "source_hash": "6646befc",
    "tags": []
   },
   "outputs": [
    {
     "data": {
      "text/plain": [
       "25"
      ]
     },
     "execution_count": 18,
     "metadata": {},
     "output_type": "execute_result"
    }
   ],
   "source": [
    "len(context)"
   ]
  },
  {
   "cell_type": "code",
   "execution_count": null,
   "metadata": {
    "cell_id": "6be2357d-8bf1-4eaf-8fe1-12780923e5da",
    "deepnote_cell_height": 118.1875,
    "deepnote_cell_type": "code",
    "deepnote_output_heights": [
     21.1875
    ],
    "deepnote_to_be_reexecuted": false,
    "execution_millis": 20,
    "execution_start": 1647790843124,
    "source_hash": "667cf03d",
    "tags": []
   },
   "outputs": [
    {
     "data": {
      "text/plain": [
       "((1003,), (5, 2))"
      ]
     },
     "execution_count": 23,
     "metadata": {},
     "output_type": "execute_result"
    }
   ],
   "source": [
    "(validation.shape, validation[0].shape)"
   ]
  },
  {
   "cell_type": "code",
   "execution_count": 25,
   "metadata": {
    "cell_id": "c73c73c5-33ac-45c7-b04e-cbc722011e69",
    "deepnote_cell_height": 383.375,
    "deepnote_cell_type": "code",
    "deepnote_output_heights": [
     232.390625
    ],
    "deepnote_to_be_reexecuted": false,
    "execution_millis": 40,
    "execution_start": 1647791034528,
    "source_hash": "3ac095fc",
    "tags": []
   },
   "outputs": [
    {
     "data": {
      "text/plain": [
       "array([['<s>', '<s>'],\n",
       "       ['Ibu', 'NN'],\n",
       "       [',', 'Z'],\n",
       "       ['bayi', 'NN'],\n",
       "       ['dan', 'CC'],\n",
       "       ['parlemen', 'NN'],\n",
       "       ['<s>', '<s>']], dtype=object)"
      ]
     },
     "execution_count": 25,
     "metadata": {},
     "output_type": "execute_result"
    }
   ],
   "source": [
    "temp = validation[0]\n",
    "temp = np.insert(temp, 0, ['<s>','<s>'], axis=0)\n",
    "temp = np.insert(temp, temp.shape[0], ['<s>','<s>'], axis=0)\n",
    "temp"
   ]
  },
  {
   "cell_type": "code",
   "execution_count": 90,
   "metadata": {
    "cell_id": "d6316934-38cd-4c56-93b4-58b615e0a153",
    "deepnote_cell_height": 264,
    "deepnote_cell_type": "code",
    "deepnote_output_heights": [
     21.1875,
     347.59375
    ],
    "deepnote_to_be_reexecuted": false,
    "execution_millis": 915,
    "execution_start": 1647797558454,
    "source_hash": "f54aecd3",
    "tags": []
   },
   "outputs": [
    {
     "name": "stdout",
     "output_type": "stream",
     "text": [
      "54 ['NN', 'MD', 'VB', 'MD', 'VB', 'NN', 'NN', 'JJ', 'SC', 'VB', 'NN', 'Z', 'CC', 'RB', 'VB', 'CD', 'NN', 'IN', 'WH', 'NN', 'NN', 'NN', 'IN', 'NN', 'NN', 'IN', 'NN', 'NN', 'JJ', 'JJ', 'Z', 'NN', 'NN', 'CC', 'NN', 'Z', 'VB', 'NNP', 'NNP', 'NNP', 'IN', 'NNP', 'NNP', 'IN', 'NNP', 'CC', 'NN', 'PRP', 'SC', 'VB', 'IN', 'NN', 'NN', 'Z']\n",
      "55 ['PRP', 'MD', 'VB', 'MD', 'VB', 'NN', 'NN', 'JJ', 'SC', 'VB', 'NN', 'Z', 'CC', 'RB', 'VB', 'CD', 'NN', 'IN', 'WH', 'NN', 'NN', 'NN', 'IN', 'NN', 'NN', 'IN', 'NN', 'NN', 'JJ', 'JJ', 'Z', 'NN', 'NN', 'CC', 'NN', 'Z', 'VB', 'NN', 'NNP', 'NNP', 'IN', 'NNP', 'NNP', 'IN', 'NN', 'CC', 'NN', 'PRP', 'SC', 'VB', 'IN', 'NNP', 'NNP', 'NN', '</s>']\n"
     ]
    },
    {
     "name": "stderr",
     "output_type": "stream",
     "text": [
      "C:\\Users\\Christian Chen\\Documents\\Chen\\Semester_6\\NLP\\Tugas\\part_of_speech\\PosTagging.py:103: RuntimeWarning: divide by zero encountered in log\n",
      "  value = best_score[-2][prevTag] + (-np.log(transProb))\n"
     ]
    }
   ],
   "source": [
    "from PosTagging import PosTagging\n",
    "tagger = PosTagging(training)\n",
    "emit, transition, context = tagger.evaluateFeed()\n",
    "\n",
    "i = 10\n",
    "\n",
    "arr = [j for i,j in validation[i]]\n",
    "print(len(arr), arr)\n",
    "# tagger.forwardStep(validation[i])\n",
    "\n",
    "# print(validation[i])\n",
    "best_score, best_edge = tagger.forwardStep(validation[i])\n",
    "# print(len(best_score))\n",
    "# print(len(best_edge))\n",
    "\n",
    "# display(best_score)\n",
    "# display(best_edge)\n",
    "tags = tagger.backwardStep(best_edge,validation[i])\n",
    "print(len(tags), tags)"
   ]
  },
  {
   "cell_type": "code",
   "execution_count": null,
   "metadata": {
    "cell_id": "249c59ed-8659-41b3-be97-e1db83559b59",
    "deepnote_cell_height": 521.375,
    "deepnote_cell_type": "code",
    "deepnote_output_heights": [
     424.390625
    ],
    "deepnote_to_be_reexecuted": false,
    "execution_millis": 247,
    "execution_start": 1647797172478,
    "source_hash": "f75a54fd",
    "tags": []
   },
   "outputs": [
    {
     "data": {
      "text/plain": [
       "array([['Bekas', 'NN'],\n",
       "       ['penguasa', 'NN'],\n",
       "       ['kolonial', 'JJ'],\n",
       "       ['Guinea', 'NNP'],\n",
       "       [',', 'Z'],\n",
       "       ['Perancis', 'NNP'],\n",
       "       [',', 'Z'],\n",
       "       ['mengutuk', 'VB'],\n",
       "       ['penggunaan', 'NN'],\n",
       "       ['kekerasan', 'NN'],\n",
       "       [',', 'Z'],\n",
       "       ['dan', 'CC'],\n",
       "       ['menyampaikan', 'VB'],\n",
       "       ['keprihatinan', 'NN'],\n",
       "       ['yang', 'SC'],\n",
       "       ['mendalam', 'VB'],\n",
       "       ['dengan', 'SC'],\n",
       "       ['bertambah', 'VB'],\n",
       "       ['-nya', 'PRP'],\n",
       "       ['jumlah', 'NN'],\n",
       "       ['korban', 'NN'],\n",
       "       ['.', 'Z']], dtype=object)"
      ]
     },
     "execution_count": 308,
     "metadata": {},
     "output_type": "execute_result"
    }
   ],
   "source": [
    "validation[i]"
   ]
  },
  {
   "cell_type": "code",
   "execution_count": null,
   "metadata": {
    "cell_id": "53002dfb-f482-4b62-a5e2-5f90d448f90b",
    "deepnote_cell_height": 66,
    "deepnote_cell_type": "code",
    "tags": []
   },
   "outputs": [],
   "source": []
  },
  {
   "cell_type": "markdown",
   "metadata": {
    "created_in_deepnote_cell": true,
    "deepnote_cell_type": "markdown",
    "jupyter": {
     "source_hidden": true
    },
    "tags": []
   },
   "source": [
    "<a style='text-decoration:none;line-height:16px;display:flex;color:#5B5B62;padding:10px;justify-content:end;' href='https://deepnote.com?utm_source=created-in-deepnote-cell&projectId=fdfc2fe7-1a8b-48e0-84ff-8814df8693e1' target=\"_blank\">\n",
    "<img alt='Created in deepnote.com' style='display:inline;max-height:16px;margin:0px;margin-right:7.5px;' src='data:image/svg+xml;base64,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' > </img>\n",
    "Created in <span style='font-weight:600;margin-left:4px;'>Deepnote</span></a>"
   ]
  },
  {
   "cell_type": "code",
   "execution_count": null,
   "metadata": {
    "cell_id": "c9c820ac-8fde-4c92-850b-0f706e7207a9",
    "deepnote_cell_height": 153,
    "deepnote_cell_type": "code",
    "deepnote_to_be_reexecuted": false,
    "execution_millis": 52,
    "execution_start": 1647781158230,
    "source_hash": "e203fa1e",
    "tags": []
   },
   "outputs": [],
   "source": [
    "from PosTagging import PosTagging\n",
    "import numpy as np\n",
    "import pandas as pd\n",
    "from io import StringIO\n",
    "import csv"
   ]
  },
  {
   "cell_type": "code",
   "execution_count": null,
   "metadata": {
    "cell_id": "9e3128f4-9733-4f52-8fdf-e883d27eaa1e",
    "deepnote_cell_height": 150,
    "deepnote_cell_type": "code",
    "deepnote_to_be_reexecuted": false,
    "execution_millis": 59,
    "execution_start": 1647783307657,
    "source_hash": "2f19d1f9",
    "tags": []
   },
   "outputs": [],
   "source": [
    "%load_ext autoreload\n",
    "%autoreload 2"
   ]
  },
  {
   "cell_type": "code",
   "execution_count": 24,
   "metadata": {
    "cell_id": "fd54949b-6137-486b-85f6-b97baa928aeb",
    "deepnote_cell_height": 298.796875,
    "deepnote_cell_type": "code",
    "deepnote_output_heights": [
     null,
     611
    ],
    "deepnote_table_loading": false,
    "deepnote_table_state": {
     "filters": [],
     "pageIndex": 0,
     "pageSize": 10,
     "sortBy": []
    },
    "deepnote_to_be_reexecuted": false,
    "execution_millis": 15824,
    "execution_start": 1647793185381,
    "source_hash": "40047ff8",
    "tags": []
   },
   "outputs": [
    {
     "ename": "FileNotFoundError",
     "evalue": "[Errno 2] No such file or directory: './Indonesian_Manually_Tagged_Corpus.tsv'",
     "output_type": "error",
     "traceback": [
      "\u001b[1;31m---------------------------------------------------------------------------\u001b[0m",
      "\u001b[1;31mFileNotFoundError\u001b[0m                         Traceback (most recent call last)",
      "\u001b[1;32mC:\\Users\\CHRIST~1\\AppData\\Local\\Temp/ipykernel_16292/3767702080.py\u001b[0m in \u001b[0;36m<module>\u001b[1;34m\u001b[0m\n\u001b[0;32m      1\u001b[0m \u001b[0mcollection\u001b[0m \u001b[1;33m=\u001b[0m \u001b[1;33m[\u001b[0m\u001b[1;33m]\u001b[0m\u001b[1;33m\u001b[0m\u001b[1;33m\u001b[0m\u001b[0m\n\u001b[0;32m      2\u001b[0m \u001b[1;33m\u001b[0m\u001b[0m\n\u001b[1;32m----> 3\u001b[1;33m \u001b[1;32mwith\u001b[0m \u001b[0mopen\u001b[0m\u001b[1;33m(\u001b[0m\u001b[1;34m\"./Indonesian_Manually_Tagged_Corpus.tsv\"\u001b[0m\u001b[1;33m,\u001b[0m \u001b[1;34m\"r\"\u001b[0m\u001b[1;33m)\u001b[0m \u001b[1;32mas\u001b[0m \u001b[0mf\u001b[0m\u001b[1;33m:\u001b[0m\u001b[1;33m\u001b[0m\u001b[1;33m\u001b[0m\u001b[0m\n\u001b[0m\u001b[0;32m      4\u001b[0m     \u001b[0mtxt_file\u001b[0m \u001b[1;33m=\u001b[0m \u001b[0mf\u001b[0m\u001b[1;33m.\u001b[0m\u001b[0mread\u001b[0m\u001b[1;33m(\u001b[0m\u001b[1;33m)\u001b[0m\u001b[1;33m\u001b[0m\u001b[1;33m\u001b[0m\u001b[0m\n\u001b[0;32m      5\u001b[0m \u001b[1;33m\u001b[0m\u001b[0m\n",
      "\u001b[1;31mFileNotFoundError\u001b[0m: [Errno 2] No such file or directory: './Indonesian_Manually_Tagged_Corpus.tsv'"
     ]
    }
   ],
   "source": [
    "collection = []\n",
    "\n",
    "with open(\"./Indonesian_Manually_Tagged_Corpus.tsv\", \"r\") as f:\n",
    "    txt_file = f.read()\n",
    "\n",
    "for sentence in txt_file.split('\\n\\n'):\n",
    "    temp = pd.read_csv(StringIO(sentence), delimiter='\\t', header=None, quoting=csv.QUOTE_NONE)\n",
    "    collection.append(temp.to_numpy())\n",
    "\n",
    "collection = np.array(collection)"
   ]
  },
  {
   "cell_type": "code",
   "execution_count": null,
   "metadata": {
    "cell_id": "45160f71-11f9-49c1-9d60-cab6f2ce0bc6",
    "collapsed": true,
    "deepnote_cell_height": 1460,
    "deepnote_cell_type": "code",
    "deepnote_output_heights": [
     null,
     611
    ],
    "deepnote_to_be_reexecuted": false,
    "execution_millis": 7266,
    "execution_start": 1647793108117,
    "jupyter": {
     "outputs_hidden": true
    },
    "source_hash": "90f41315",
    "tags": []
   },
   "outputs": [],
   "source": [
    "for sentence in collection:\n",
    "    sentence = np.insert(sentence, 0, ['<s>','<s>'], axis=0)\n",
    "    sentence = np.insert(sentence, sentence.shape[0], ['</s>','</s>'], axis=0)\n",
    "    print(sentence)\n",
    "collection"
   ]
  },
  {
   "cell_type": "code",
   "execution_count": null,
   "metadata": {
    "cell_id": "0f7679da-657e-4643-bffe-7dd5be373767",
    "deepnote_cell_height": 117,
    "deepnote_cell_type": "code",
    "deepnote_to_be_reexecuted": false,
    "execution_millis": 121,
    "execution_start": 1647781188543,
    "source_hash": "7f99c728",
    "tags": []
   },
   "outputs": [],
   "source": [
    "TRAINING_PERCENTAGE = 70\n",
    "VALIDATION_PERCENTAGE = 10\n",
    "TESTING_PERCENTAGE = 20"
   ]
  },
  {
   "cell_type": "code",
   "execution_count": null,
   "metadata": {
    "cell_id": "b8eb6a95-e6f7-45ba-b9ee-e83e473517fd",
    "deepnote_cell_height": 207,
    "deepnote_cell_type": "code",
    "deepnote_to_be_reexecuted": false,
    "execution_millis": 33,
    "execution_start": 1647781188673,
    "source_hash": "ae146828",
    "tags": []
   },
   "outputs": [],
   "source": [
    "np.random.shuffle(collection)\n",
    "\n",
    "training_count = round(len(collection) * TRAINING_PERCENTAGE / 100)\n",
    "validation_count = round((len(collection) - training_count) * VALIDATION_PERCENTAGE / (100 - TRAINING_PERCENTAGE))\n",
    "\n",
    "training = collection[0:training_count]\n",
    "validation = collection[training_count:training_count+validation_count]\n",
    "testing = collection[training_count+validation_count:]"
   ]
  },
  {
   "cell_type": "code",
   "execution_count": null,
   "metadata": {
    "cell_id": "3d240649-a30e-4951-9710-7572aabc3c6f",
    "deepnote_cell_height": 118.1875,
    "deepnote_cell_type": "code",
    "deepnote_output_heights": [
     21.1875
    ],
    "deepnote_to_be_reexecuted": false,
    "execution_millis": 457,
    "execution_start": 1647788502920,
    "source_hash": "dbd6ccd0",
    "tags": []
   },
   "outputs": [
    {
     "data": {
      "text/plain": [
       "7021"
      ]
     },
     "execution_count": 93,
     "metadata": {},
     "output_type": "execute_result"
    }
   ],
   "source": [
    "len(training)"
   ]
  },
  {
   "cell_type": "code",
   "execution_count": 66,
   "metadata": {
    "cell_id": "10145fb2-578f-48e3-896c-50ba3253bbb6",
    "deepnote_cell_height": 280.796875,
    "deepnote_cell_type": "code",
    "deepnote_to_be_reexecuted": false,
    "execution_millis": 1181,
    "execution_start": 1647783344805,
    "source_hash": "a37ee0d2",
    "tags": []
   },
   "outputs": [],
   "source": [
    "from PosTagging import PosTagging\n",
    "tagger = PosTagging(training)\n",
    "emit, transition, context = tagger.evaluateFeed()\n",
    "# Emit\n",
    "# Tag - [{Words - Counter}]\n",
    "# Transition\n",
    "# Word - [{Tag - Counter}]\n",
    "# Context\n",
    "# [Tag - Counter]"
   ]
  },
  {
   "cell_type": "code",
   "execution_count": null,
   "metadata": {
    "cell_id": "0726e516-9baf-458b-b965-5980f5fd1dec",
    "collapsed": true,
    "deepnote_cell_height": 708,
    "deepnote_cell_type": "code",
    "deepnote_output_heights": [
     611
    ],
    "deepnote_to_be_reexecuted": false,
    "execution_millis": 47,
    "execution_start": 1647782970785,
    "jupyter": {
     "outputs_hidden": true
    },
    "source_hash": "34a43ba5",
    "tags": []
   },
   "outputs": [
    {
     "data": {
      "text/plain": [
       "{'<s>': {'PRP': 551,\n",
       "  'NN': 2226,\n",
       "  'CC': 421,\n",
       "  'IN': 919,\n",
       "  'NNP': 1231,\n",
       "  'RB': 126,\n",
       "  'CD': 296,\n",
       "  'SC': 565,\n",
       "  'VB': 249,\n",
       "  'DT': 68,\n",
       "  'X': 5,\n",
       "  'Z': 22,\n",
       "  'OD': 5,\n",
       "  'PR': 109,\n",
       "  'UH': 8,\n",
       "  'JJ': 48,\n",
       "  'FW': 18,\n",
       "  'NND': 78,\n",
       "  'NEG': 38,\n",
       "  'WH': 17,\n",
       "  'MD': 21},\n",
       " 'PRP': {'NEG': 146,\n",
       "  'IN': 494,\n",
       "  'MD': 393,\n",
       "  'PR': 29,\n",
       "  'Z': 1490,\n",
       "  'VB': 1185,\n",
       "  'SC': 256,\n",
       "  'RB': 236,\n",
       "  'NN': 609,\n",
       "  'SYM': 46,\n",
       "  'CD': 101,\n",
       "  'CC': 61,\n",
       "  'X': 6,\n",
       "  'JJ': 95,\n",
       "  'NNP': 85,\n",
       "  '</s>': 14,\n",
       "  'RP': 4,\n",
       "  'DT': 1,\n",
       "  'PRP': 24,\n",
       "  'FW': 7,\n",
       "  'NND': 1,\n",
       "  'WH': 1},\n",
       " 'NEG': {'RB': 89,\n",
       "  'VB': 525,\n",
       "  'JJ': 128,\n",
       "  'FW': 3,\n",
       "  'MD': 171,\n",
       "  'IN': 14,\n",
       "  'CC': 1,\n",
       "  'CD': 13,\n",
       "  'NN': 53,\n",
       "  'Z': 20,\n",
       "  'NND': 5,\n",
       "  'SC': 4,\n",
       "  'RP': 13,\n",
       "  'NEG': 2,\n",
       "  'PR': 3,\n",
       "  'X': 2,\n",
       "  'PRP': 6,\n",
       "  'NNP': 1},\n",
       " 'RB': {'SC': 96,\n",
       "  'VB': 1269,\n",
       "  'NN': 210,\n",
       "  'JJ': 742,\n",
       "  'MD': 213,\n",
       "  'CD': 184,\n",
       "  'IN': 260,\n",
       "  'Z': 184,\n",
       "  'RB': 75,\n",
       "  'NNP': 27,\n",
       "  'NEG': 45,\n",
       "  'WH': 4,\n",
       "  'FW': 15,\n",
       "  'PRP': 62,\n",
       "  'CC': 22,\n",
       "  'NND': 2,\n",
       "  'RP': 8,\n",
       "  'SYM': 27,\n",
       "  'DT': 1,\n",
       "  'PR': 13,\n",
       "  'X': 3,\n",
       "  '</s>': 1},\n",
       " 'SC': {'NN': 1815,\n",
       "  'VB': 3878,\n",
       "  'MD': 552,\n",
       "  'NNP': 357,\n",
       "  'JJ': 597,\n",
       "  'SC': 92,\n",
       "  'RB': 458,\n",
       "  'NEG': 160,\n",
       "  'IN': 209,\n",
       "  'CD': 194,\n",
       "  'PRP': 406,\n",
       "  'PR': 180,\n",
       "  'FW': 33,\n",
       "  'Z': 65,\n",
       "  'SYM': 31,\n",
       "  'DT': 13,\n",
       "  'NND': 22,\n",
       "  'WH': 7,\n",
       "  'OD': 19,\n",
       "  'CC': 18,\n",
       "  'RP': 3,\n",
       "  '</s>': 2,\n",
       "  'X': 9},\n",
       " 'NN': {'WH': 20,\n",
       "  'JJ': 3205,\n",
       "  'IN': 3857,\n",
       "  'NN': 12664,\n",
       "  'NNP': 4261,\n",
       "  'PRP': 1606,\n",
       "  'PR': 2456,\n",
       "  'Z': 3808,\n",
       "  'SC': 3237,\n",
       "  'VB': 2438,\n",
       "  'CC': 1665,\n",
       "  'NEG': 160,\n",
       "  'OD': 411,\n",
       "  'CD': 1448,\n",
       "  'MD': 582,\n",
       "  'RB': 685,\n",
       "  'SYM': 357,\n",
       "  'FW': 314,\n",
       "  'X': 107,\n",
       "  'DT': 15,\n",
       "  'UH': 4,\n",
       "  '</s>': 38,\n",
       "  'NND': 39,\n",
       "  'RP': 11},\n",
       " 'WH': {'VB': 9,\n",
       "  'NN': 47,\n",
       "  'SC': 41,\n",
       "  'Z': 13,\n",
       "  'RP': 17,\n",
       "  'PRP': 14,\n",
       "  'FW': 3,\n",
       "  'MD': 3,\n",
       "  'RB': 5,\n",
       "  'NNP': 5,\n",
       "  'JJ': 7,\n",
       "  'PR': 6,\n",
       "  'CD': 5,\n",
       "  'NEG': 2,\n",
       "  'IN': 2,\n",
       "  'CC': 1},\n",
       " 'VB': {'NN': 7786,\n",
       "  'NNP': 1367,\n",
       "  'PRP': 1384,\n",
       "  'CD': 1611,\n",
       "  'SC': 1116,\n",
       "  'IN': 3510,\n",
       "  'RB': 378,\n",
       "  'JJ': 443,\n",
       "  'Z': 1598,\n",
       "  'VB': 1345,\n",
       "  'SYM': 407,\n",
       "  'PR': 119,\n",
       "  'NEG': 69,\n",
       "  'MD': 236,\n",
       "  'NND': 152,\n",
       "  'CC': 299,\n",
       "  'X': 31,\n",
       "  'FW': 129,\n",
       "  'WH': 70,\n",
       "  'RP': 10,\n",
       "  '</s>': 10,\n",
       "  'DT': 54,\n",
       "  'OD': 6,\n",
       "  'UH': 1},\n",
       " 'JJ': {'NNP': 281,\n",
       "  'VB': 613,\n",
       "  'SC': 608,\n",
       "  'IN': 1044,\n",
       "  'Z': 1393,\n",
       "  'CD': 448,\n",
       "  'OD': 24,\n",
       "  'NN': 721,\n",
       "  'JJ': 208,\n",
       "  'PRP': 416,\n",
       "  'SYM': 264,\n",
       "  'PR': 139,\n",
       "  'RB': 125,\n",
       "  'CC': 375,\n",
       "  'MD': 126,\n",
       "  'FW': 25,\n",
       "  'X': 6,\n",
       "  'WH': 11,\n",
       "  '</s>': 18,\n",
       "  'NEG': 16,\n",
       "  'DT': 1,\n",
       "  'RP': 4,\n",
       "  'NND': 3},\n",
       " 'NNP': {'Z': 5572,\n",
       "  'SC': 888,\n",
       "  'NNP': 10209,\n",
       "  'IN': 1871,\n",
       "  'VB': 2080,\n",
       "  'NN': 589,\n",
       "  'MD': 478,\n",
       "  'CC': 846,\n",
       "  'JJ': 169,\n",
       "  'CD': 690,\n",
       "  'RB': 289,\n",
       "  'PR': 255,\n",
       "  'FW': 131,\n",
       "  'PRP': 34,\n",
       "  'SYM': 38,\n",
       "  'OD': 29,\n",
       "  'NEG': 99,\n",
       "  'X': 14,\n",
       "  'RP': 4,\n",
       "  '</s>': 28,\n",
       "  'DT': 3,\n",
       "  'NND': 1},\n",
       " 'Z': {'NNP': 2204,\n",
       "  'VB': 2594,\n",
       "  '</s>': 6882,\n",
       "  'CC': 913,\n",
       "  'NN': 2006,\n",
       "  'IN': 636,\n",
       "  'MD': 129,\n",
       "  'SC': 1356,\n",
       "  'CD': 559,\n",
       "  'NND': 81,\n",
       "  'PRP': 194,\n",
       "  'FW': 145,\n",
       "  'Z': 137,\n",
       "  'PR': 95,\n",
       "  'RB': 159,\n",
       "  'JJ': 161,\n",
       "  'SYM': 35,\n",
       "  'DT': 18,\n",
       "  'NEG': 73,\n",
       "  'WH': 18,\n",
       "  'UH': 8,\n",
       "  'OD': 3,\n",
       "  'X': 15,\n",
       "  'RP': 1},\n",
       " 'IN': {'NNP': 3099,\n",
       "  'DT': 70,\n",
       "  'NN': 8002,\n",
       "  'JJ': 342,\n",
       "  'CD': 1702,\n",
       "  'VB': 359,\n",
       "  'FW': 100,\n",
       "  'PRP': 273,\n",
       "  'SYM': 195,\n",
       "  'SC': 96,\n",
       "  'RB': 77,\n",
       "  'IN': 87,\n",
       "  'X': 23,\n",
       "  'NND': 190,\n",
       "  'PR': 158,\n",
       "  'WH': 18,\n",
       "  'Z': 40,\n",
       "  'NEG': 7,\n",
       "  'OD': 11,\n",
       "  'CC': 4,\n",
       "  'MD': 8},\n",
       " 'DT': {'NN': 251, 'JJ': 2, 'VB': 6, 'MD': 1, 'NNP': 1, 'FW': 4, 'PRP': 1},\n",
       " 'CD': {'NN': 3297,\n",
       "  'CD': 3330,\n",
       "  'CC': 429,\n",
       "  'X': 17,\n",
       "  'Z': 2137,\n",
       "  'MD': 94,\n",
       "  'SC': 305,\n",
       "  'NND': 307,\n",
       "  'IN': 1077,\n",
       "  'VB': 683,\n",
       "  'NNP': 354,\n",
       "  'PRP': 66,\n",
       "  'JJ': 168,\n",
       "  'PR': 65,\n",
       "  'RB': 82,\n",
       "  '</s>': 15,\n",
       "  'FW': 34,\n",
       "  'SYM': 81,\n",
       "  'DT': 2,\n",
       "  'NEG': 6,\n",
       "  'RP': 4,\n",
       "  'OD': 1},\n",
       " 'CC': {'PR': 65,\n",
       "  'NNP': 591,\n",
       "  'CD': 350,\n",
       "  'NN': 1934,\n",
       "  'CC': 36,\n",
       "  'PRP': 101,\n",
       "  'VB': 834,\n",
       "  'Z': 226,\n",
       "  'SYM': 39,\n",
       "  'JJ': 213,\n",
       "  'IN': 227,\n",
       "  'DT': 18,\n",
       "  'SC': 122,\n",
       "  'FW': 57,\n",
       "  'RB': 182,\n",
       "  'NEG': 79,\n",
       "  'MD': 116,\n",
       "  'X': 19,\n",
       "  'NND': 32,\n",
       "  'WH': 11,\n",
       "  'OD': 1,\n",
       "  'RP': 7,\n",
       "  '</s>': 6},\n",
       " 'PR': {'NEG': 114,\n",
       "  'Z': 1132,\n",
       "  'NN': 250,\n",
       "  'CC': 58,\n",
       "  'VB': 1009,\n",
       "  'SC': 136,\n",
       "  'IN': 264,\n",
       "  'RB': 200,\n",
       "  'MD': 344,\n",
       "  'RP': 32,\n",
       "  'JJ': 68,\n",
       "  'NNP': 67,\n",
       "  'PRP': 49,\n",
       "  'CD': 26,\n",
       "  'NND': 6,\n",
       "  'WH': 3,\n",
       "  'FW': 5,\n",
       "  'PR': 2,\n",
       "  'DT': 1,\n",
       "  '</s>': 3,\n",
       "  'X': 2},\n",
       " 'MD': {'VB': 2858,\n",
       "  'JJ': 168,\n",
       "  'Z': 17,\n",
       "  'CD': 26,\n",
       "  'IN': 61,\n",
       "  'MD': 132,\n",
       "  'NEG': 24,\n",
       "  'RB': 252,\n",
       "  'PRP': 38,\n",
       "  'NN': 44,\n",
       "  'SC': 7,\n",
       "  'SYM': 2,\n",
       "  'PR': 3,\n",
       "  'FW': 3,\n",
       "  'X': 3,\n",
       "  'CC': 8,\n",
       "  'NNP': 1,\n",
       "  'RP': 1,\n",
       "  'NND': 1,\n",
       "  'OD': 1},\n",
       " 'X': {'CC': 19,\n",
       "  'PR': 4,\n",
       "  'X': 2,\n",
       "  'NNP': 30,\n",
       "  'IN': 32,\n",
       "  'PRP': 10,\n",
       "  'JJ': 14,\n",
       "  'Z': 47,\n",
       "  'NN': 46,\n",
       "  'VB': 23,\n",
       "  'SC': 27,\n",
       "  'NEG': 1,\n",
       "  'MD': 6,\n",
       "  'DT': 1,\n",
       "  'RB': 5,\n",
       "  'CD': 8,\n",
       "  'OD': 6},\n",
       " 'OD': {'CD': 122,\n",
       "  'Z': 92,\n",
       "  'JJ': 8,\n",
       "  'IN': 59,\n",
       "  'NN': 61,\n",
       "  'NEG': 1,\n",
       "  'SC': 36,\n",
       "  'VB': 40,\n",
       "  'PRP': 14,\n",
       "  'FW': 9,\n",
       "  'NNP': 21,\n",
       "  'SYM': 2,\n",
       "  'NND': 14,\n",
       "  'RB': 5,\n",
       "  'CC': 11,\n",
       "  'PR': 17,\n",
       "  'MD': 7},\n",
       " 'FW': {'SC': 83,\n",
       "  'FW': 566,\n",
       "  'Z': 268,\n",
       "  'IN': 118,\n",
       "  'NNP': 104,\n",
       "  'NN': 127,\n",
       "  'JJ': 58,\n",
       "  'CC': 51,\n",
       "  'RB': 17,\n",
       "  'VB': 73,\n",
       "  'MD': 19,\n",
       "  'PR': 45,\n",
       "  'X': 16,\n",
       "  'PRP': 17,\n",
       "  'NEG': 6,\n",
       "  'CD': 29,\n",
       "  'SYM': 8,\n",
       "  'OD': 1,\n",
       "  'RP': 1,\n",
       "  'NND': 1,\n",
       "  '</s>': 1},\n",
       " 'NND': {'NN': 605,\n",
       "  'IN': 74,\n",
       "  'SC': 22,\n",
       "  'Z': 106,\n",
       "  'CC': 21,\n",
       "  'NND': 38,\n",
       "  'VB': 35,\n",
       "  'PR': 4,\n",
       "  'RP': 6,\n",
       "  'NNP': 16,\n",
       "  'JJ': 6,\n",
       "  'RB': 9,\n",
       "  'FW': 6,\n",
       "  'PRP': 10,\n",
       "  'MD': 6,\n",
       "  'CD': 6,\n",
       "  'OD': 1,\n",
       "  '</s>': 2,\n",
       "  'X': 1},\n",
       " 'SYM': {'CD': 1401,\n",
       "  'IN': 36,\n",
       "  'VB': 13,\n",
       "  'Z': 44,\n",
       "  'PRP': 1,\n",
       "  'SYM': 14,\n",
       "  'FW': 2,\n",
       "  'JJ': 7,\n",
       "  'CC': 5,\n",
       "  'NN': 13,\n",
       "  'NNP': 3,\n",
       "  '</s>': 1,\n",
       "  'SC': 6},\n",
       " 'RP': {'SC': 21,\n",
       "  'NN': 29,\n",
       "  'VB': 12,\n",
       "  'CD': 5,\n",
       "  'JJ': 12,\n",
       "  'RB': 9,\n",
       "  'NND': 1,\n",
       "  'Z': 7,\n",
       "  'IN': 9,\n",
       "  'PR': 2,\n",
       "  'PRP': 2,\n",
       "  'MD': 10,\n",
       "  'NNP': 2,\n",
       "  'NEG': 4,\n",
       "  'CC': 1},\n",
       " 'UH': {'NN': 3,\n",
       "  'Z': 4,\n",
       "  'MD': 3,\n",
       "  'CC': 1,\n",
       "  'PRP': 5,\n",
       "  'IN': 1,\n",
       "  'PR': 2,\n",
       "  'VB': 1,\n",
       "  'NEG': 1}}"
      ]
     },
     "execution_count": 13,
     "metadata": {},
     "output_type": "execute_result"
    }
   ],
   "source": [
    "transition"
   ]
  },
  {
   "cell_type": "code",
   "execution_count": null,
   "metadata": {
    "cell_id": "78e9387a-cb7c-4a3c-99fc-10e388ad31a4",
    "deepnote_cell_height": 559.78125,
    "deepnote_cell_type": "code",
    "deepnote_output_heights": [
     462.796875
    ],
    "deepnote_to_be_reexecuted": false,
    "execution_millis": 47,
    "execution_start": 1647781190147,
    "source_hash": "6646befc",
    "tags": []
   },
   "outputs": [
    {
     "data": {
      "text/plain": [
       "{'<s>': 7021,\n",
       " 'PRP': 5284,\n",
       " 'NEG': 1053,\n",
       " 'RB': 3463,\n",
       " 'SC': 9120,\n",
       " 'NN': 43388,\n",
       " 'WH': 180,\n",
       " 'VB': 22131,\n",
       " 'JJ': 6869,\n",
       " 'NNP': 24317,\n",
       " 'Z': 18422,\n",
       " 'IN': 14861,\n",
       " 'DT': 266,\n",
       " 'CD': 12554,\n",
       " 'CC': 5266,\n",
       " 'PR': 3771,\n",
       " 'MD': 3650,\n",
       " 'X': 281,\n",
       " 'OD': 519,\n",
       " 'FW': 1609,\n",
       " 'NND': 974,\n",
       " 'SYM': 1546,\n",
       " 'RP': 126,\n",
       " 'UH': 21}"
      ]
     },
     "execution_count": 8,
     "metadata": {},
     "output_type": "execute_result"
    }
   ],
   "source": [
    "context"
   ]
  },
  {
   "cell_type": "code",
   "execution_count": null,
   "metadata": {
    "cell_id": "6be2357d-8bf1-4eaf-8fe1-12780923e5da",
    "deepnote_cell_height": 118.1875,
    "deepnote_cell_type": "code",
    "deepnote_output_heights": [
     21.1875
    ],
    "deepnote_to_be_reexecuted": false,
    "execution_millis": 20,
    "execution_start": 1647790843124,
    "source_hash": "667cf03d",
    "tags": []
   },
   "outputs": [
    {
     "data": {
      "text/plain": [
       "(10, 2)"
      ]
     },
     "execution_count": 170,
     "metadata": {},
     "output_type": "execute_result"
    }
   ],
   "source": [
    "validation[0].shape"
   ]
  },
  {
   "cell_type": "code",
   "execution_count": null,
   "metadata": {
    "cell_id": "c73c73c5-33ac-45c7-b04e-cbc722011e69",
    "deepnote_cell_height": 383.375,
    "deepnote_cell_type": "code",
    "deepnote_output_heights": [
     232.390625
    ],
    "deepnote_to_be_reexecuted": false,
    "execution_millis": 40,
    "execution_start": 1647791034528,
    "source_hash": "3ac095fc",
    "tags": []
   },
   "outputs": [
    {
     "data": {
      "text/plain": [
       "array([['<s>', '<s>'],\n",
       "       ['Serangan-serangan', 'NN'],\n",
       "       ['terhadap', 'IN'],\n",
       "       ['gerilyawan', 'NN'],\n",
       "       ['mengandung', 'VB'],\n",
       "       ['risiko', 'NN'],\n",
       "       ['pembalasan', 'NN'],\n",
       "       ['terhadap', 'IN'],\n",
       "       ['militer', 'NN'],\n",
       "       ['Pakistan', 'NNP'],\n",
       "       ['.', 'Z'],\n",
       "       ['<s>', '<s>']], dtype=object)"
      ]
     },
     "execution_count": 183,
     "metadata": {},
     "output_type": "execute_result"
    }
   ],
   "source": [
    "temp = validation[0]\n",
    "temp = np.insert(temp, 0, ['<s>','<s>'], axis=0)\n",
    "temp = np.insert(temp, temp.shape[0], ['<s>','<s>'], axis=0)\n",
    "temp"
   ]
  },
  {
   "cell_type": "code",
   "execution_count": null,
   "metadata": {
    "cell_id": "d5f8d601-c464-4427-ad38-81b463f3fd9a",
    "deepnote_cell_height": 117,
    "deepnote_cell_type": "code",
    "deepnote_to_be_reexecuted": false,
    "execution_millis": 740,
    "execution_start": 1647797460050,
    "source_hash": "8bd648d1",
    "tags": []
   },
   "outputs": [],
   "source": [
    "from PosTagging import PosTagging\n",
    "tagger = PosTagging(training)\n",
    "emit, transition, context = tagger.evaluateFeed()"
   ]
  },
  {
   "cell_type": "code",
   "execution_count": null,
   "metadata": {
    "cell_id": "d6316934-38cd-4c56-93b4-58b615e0a153",
    "deepnote_cell_height": 264,
    "deepnote_cell_type": "code",
    "deepnote_output_heights": [
     21.1875,
     347.59375
    ],
    "deepnote_to_be_reexecuted": false,
    "execution_millis": 915,
    "execution_start": 1647797558454,
    "source_hash": "f54aecd3",
    "tags": []
   },
   "outputs": [
    {
     "name": "stdout",
     "output_type": "stream",
     "text": [
      "['Serangan-serangan', 'terhadap', 'gerilyawan', 'mengandung', 'risiko', 'pembalasan', 'terhadap', 'militer', 'Pakistan', '.']\n",
      "['NN', 'IN', 'NN', 'VB', 'NN', 'NN', 'IN', 'NN', 'NNP', 'Z']\n",
      "10 ['<s>', 'NN', 'IN', 'NN', 'NN', 'NN', 'NN', 'IN', 'CD', '</s>']\n",
      "/work/PosTagging.py:96: RuntimeWarning: divide by zero encountered in log\n",
      "  value = best_score[len(best_score)-2][prevTag] + (-np.log(transProb))\n"
     ]
    }
   ],
   "source": [
    "i = 0\n",
    "# tagger.forwardStep(validation[i])\n",
    "best_score, best_edge = tagger.forwardStep(validation[i])\n",
    "tags = tagger.backwardStep(best_edge,validation[i])\n",
    "print(len(tags), tags)"
   ]
  },
  {
   "cell_type": "code",
   "execution_count": null,
   "metadata": {
    "cell_id": "249c59ed-8659-41b3-be97-e1db83559b59",
    "deepnote_cell_height": 521.375,
    "deepnote_cell_type": "code",
    "deepnote_output_heights": [
     424.390625
    ],
    "deepnote_to_be_reexecuted": false,
    "execution_millis": 247,
    "execution_start": 1647797172478,
    "source_hash": "f75a54fd",
    "tags": []
   },
   "outputs": [
    {
     "data": {
      "text/plain": [
       "array([['Bekas', 'NN'],\n",
       "       ['penguasa', 'NN'],\n",
       "       ['kolonial', 'JJ'],\n",
       "       ['Guinea', 'NNP'],\n",
       "       [',', 'Z'],\n",
       "       ['Perancis', 'NNP'],\n",
       "       [',', 'Z'],\n",
       "       ['mengutuk', 'VB'],\n",
       "       ['penggunaan', 'NN'],\n",
       "       ['kekerasan', 'NN'],\n",
       "       [',', 'Z'],\n",
       "       ['dan', 'CC'],\n",
       "       ['menyampaikan', 'VB'],\n",
       "       ['keprihatinan', 'NN'],\n",
       "       ['yang', 'SC'],\n",
       "       ['mendalam', 'VB'],\n",
       "       ['dengan', 'SC'],\n",
       "       ['bertambah', 'VB'],\n",
       "       ['-nya', 'PRP'],\n",
       "       ['jumlah', 'NN'],\n",
       "       ['korban', 'NN'],\n",
       "       ['.', 'Z']], dtype=object)"
      ]
     },
     "execution_count": 308,
     "metadata": {},
     "output_type": "execute_result"
    }
   ],
   "source": [
    "validation[i]"
   ]
  },
  {
   "cell_type": "code",
   "execution_count": null,
   "metadata": {
    "cell_id": "53002dfb-f482-4b62-a5e2-5f90d448f90b",
    "deepnote_cell_height": 66,
    "deepnote_cell_type": "code",
    "tags": []
   },
   "outputs": [],
   "source": []
  },
  {
   "cell_type": "markdown",
   "metadata": {
    "created_in_deepnote_cell": true,
    "deepnote_cell_type": "markdown",
    "tags": []
   },
   "source": [
    "<a style='text-decoration:none;line-height:16px;display:flex;color:#5B5B62;padding:10px;justify-content:end;' href='https://deepnote.com?utm_source=created-in-deepnote-cell&projectId=fdfc2fe7-1a8b-48e0-84ff-8814df8693e1' target=\"_blank\">\n",
    "<img alt='Created in deepnote.com' style='display:inline;max-height:16px;margin:0px;margin-right:7.5px;' src='data:image/svg+xml;base64,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' > </img>\n",
    "Created in <span style='font-weight:600;margin-left:4px;'>Deepnote</span></a>"
   ]
  },
  {
   "cell_type": "code",
   "execution_count": null,
   "metadata": {},
   "outputs": [],
   "source": [
    "te"
   ]
  },
  {
   "cell_type": "code",
   "execution_count": null,
   "metadata": {},
   "outputs": [],
   "source": []
  }
 ],
 "metadata": {
  "deepnote": {
   "is_reactive": false
  },
  "deepnote_execution_queue": [],
  "deepnote_notebook_id": "1c39d1b8-a121-407d-bb2d-a13366ab8c48",
  "kernelspec": {
   "display_name": "Python 3 (ipykernel)",
   "language": "python",
   "name": "python3"
  },
  "language_info": {
   "codemirror_mode": {
    "name": "ipython",
    "version": 3
   },
   "file_extension": ".py",
   "mimetype": "text/x-python",
   "name": "python",
   "nbconvert_exporter": "python",
   "pygments_lexer": "ipython3",
   "version": "3.9.5"
  }
 },
 "nbformat": 4,
 "nbformat_minor": 4
}

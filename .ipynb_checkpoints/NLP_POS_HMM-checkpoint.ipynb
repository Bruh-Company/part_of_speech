{
 "cells": [
  {
   "cell_type": "code",
   "execution_count": 1,
   "metadata": {},
   "outputs": [],
   "source": [
    "'''\n",
    "magic command from IPython extension to reload modules before executing user code\n",
    "https://ipython.readthedocs.io/en/stable/config/extensions/autoreload.html\n",
    "'''\n",
    "\n",
    "%load_ext autoreload\n",
    "%autoreload 2"
   ]
  },
  {
   "cell_type": "code",
   "execution_count": 2,
   "metadata": {
    "cell_id": "9e3128f4-9733-4f52-8fdf-e883d27eaa1e",
    "deepnote_cell_height": 150,
    "deepnote_cell_type": "code",
    "deepnote_to_be_reexecuted": false,
    "execution_millis": 59,
    "execution_start": 1647783307657,
    "source_hash": "2f19d1f9",
    "tags": []
   },
   "outputs": [],
   "source": [
    "import numpy as np\n",
    "import pandas as pd\n",
    "from io import StringIO\n",
    "import csv\n",
    "import sys\n",
    "from tqdm.notebook import tqdm"
   ]
  },
  {
   "cell_type": "code",
   "execution_count": 3,
   "metadata": {
    "cell_id": "fd54949b-6137-486b-85f6-b97baa928aeb",
    "deepnote_cell_height": 298.796875,
    "deepnote_cell_type": "code",
    "deepnote_output_heights": [
     null,
     611
    ],
    "deepnote_table_loading": false,
    "deepnote_table_state": {
     "filters": [],
     "pageIndex": 0,
     "pageSize": 10,
     "sortBy": []
    },
    "deepnote_to_be_reexecuted": false,
    "execution_millis": 15824,
    "execution_start": 1647793185381,
    "source_hash": "40047ff8",
    "tags": []
   },
   "outputs": [],
   "source": [
    "'''\n",
    "collecting corpus, split by double end\n",
    "'''\n",
    "\n",
    "collection = []\n",
    "\n",
    "with open(\"./data/Indonesian_Manually_Tagged_Corpus.tsv\", \"r\") as f:\n",
    "    txt_file = f.read()\n",
    "\n",
    "for sentence in txt_file.split('\\n\\n'):\n",
    "    temp = pd.read_csv(StringIO(sentence), delimiter='\\t', header=None, quoting=csv.QUOTE_NONE)\n",
    "    collection.append(temp.to_numpy())\n",
    "\n",
    "collection = np.array(collection, dtype=object)"
   ]
  },
  {
   "cell_type": "code",
   "execution_count": 4,
   "metadata": {
    "cell_id": "0f7679da-657e-4643-bffe-7dd5be373767",
    "deepnote_cell_height": 117,
    "deepnote_cell_type": "code",
    "deepnote_to_be_reexecuted": false,
    "execution_millis": 121,
    "execution_start": 1647781188543,
    "source_hash": "7f99c728",
    "tags": []
   },
   "outputs": [],
   "source": [
    "TRAINING_PERCENTAGE = 70\n",
    "VALIDATION_PERCENTAGE = 10\n",
    "TESTING_PERCENTAGE = 20"
   ]
  },
  {
   "cell_type": "code",
   "execution_count": 5,
   "metadata": {
    "cell_id": "b8eb6a95-e6f7-45ba-b9ee-e83e473517fd",
    "deepnote_cell_height": 207,
    "deepnote_cell_type": "code",
    "deepnote_to_be_reexecuted": false,
    "execution_millis": 33,
    "execution_start": 1647781188673,
    "source_hash": "ae146828",
    "tags": []
   },
   "outputs": [],
   "source": [
    "'''\n",
    "shuffling collection data, and divide the data into training set, validation set, and testing set\n",
    "'''\n",
    "\n",
    "np.random.shuffle(collection)\n",
    "\n",
    "training_count = round(len(collection) * TRAINING_PERCENTAGE / 100)\n",
    "validation_count = round((len(collection) - training_count) * VALIDATION_PERCENTAGE / (100 - TRAINING_PERCENTAGE))\n",
    "\n",
    "training = collection[0 : training_count]\n",
    "validation = collection[training_count : training_count + validation_count]\n",
    "testing = collection[training_count + validation_count : ]"
   ]
  },
  {
   "cell_type": "code",
   "execution_count": 6,
   "metadata": {
    "cell_id": "d6316934-38cd-4c56-93b4-58b615e0a153",
    "deepnote_cell_height": 264,
    "deepnote_cell_type": "code",
    "deepnote_output_heights": [
     21.1875,
     347.59375
    ],
    "deepnote_to_be_reexecuted": false,
    "execution_millis": 915,
    "execution_start": 1647797558454,
    "source_hash": "f54aecd3",
    "tags": []
   },
   "outputs": [
    {
     "name": "stdout",
     "output_type": "stream",
     "text": [
      "[7021/7021]\t|██████████████████████████████████████████████████|\n",
      "finished..."
     ]
    }
   ],
   "source": [
    "from PosTagging import PosTagging\n",
    "tagger = PosTagging(training)\n",
    "_,_,_ = tagger.train()"
   ]
  },
  {
   "cell_type": "code",
   "execution_count": 7,
   "metadata": {
    "cell_id": "d6316934-38cd-4c56-93b4-58b615e0a153",
    "deepnote_cell_height": 264,
    "deepnote_cell_type": "code",
    "deepnote_output_heights": [
     21.1875,
     347.59375
    ],
    "deepnote_to_be_reexecuted": false,
    "execution_millis": 915,
    "execution_start": 1647797558454,
    "source_hash": "f54aecd3",
    "tags": []
   },
   "outputs": [
    {
     "data": {
      "application/vnd.jupyter.widget-view+json": {
       "model_id": "8e49b985b05a4bb9a24991866979e26e",
       "version_major": 2,
       "version_minor": 0
      },
      "text/plain": [
       "  0%|          | 0/100 [00:00<?, ?it/s]"
      ]
     },
     "metadata": {},
     "output_type": "display_data"
    }
   ],
   "source": [
    "lambdas = tagger.validate(validation, 0.01)"
   ]
  },
  {
   "cell_type": "code",
   "execution_count": 8,
   "metadata": {},
   "outputs": [
    {
     "data": {
      "text/plain": [
       "[(0.0, 0.13436979455857856),\n",
       " (0.01, 0.6072420084080273),\n",
       " (0.02, 0.6878718172443881),\n",
       " (0.03, 0.7209090187990799),\n",
       " (0.04, 0.7457761561037519),\n",
       " (0.05, 0.7628301737130165),\n",
       " (0.060000000000000005, 0.7767113508368366),\n",
       " (0.07, 0.7869041008963275),\n",
       " (0.08, 0.794875862616007),\n",
       " (0.09, 0.8011422225747601),\n",
       " (0.09999999999999999, 0.8083207741730785),\n",
       " (0.10999999999999999, 0.8130800349012454),\n",
       " (0.11999999999999998, 0.8177996351233442),\n",
       " (0.12999999999999998, 0.82176568573015),\n",
       " (0.13999999999999999, 0.8256524153248196),\n",
       " (0.15, 0.8291822003648767),\n",
       " (0.16, 0.8317204727532324),\n",
       " (0.17, 0.8353295788054256),\n",
       " (0.18000000000000002, 0.8382644562544618),\n",
       " (0.19000000000000003, 0.8411200126913619),\n",
       " (0.20000000000000004, 0.8440152296343302),\n",
       " (0.21000000000000005, 0.8465535020226858),\n",
       " (0.22000000000000006, 0.8489331323867693),\n",
       " (0.23000000000000007, 0.8508764971841041),\n",
       " (0.24000000000000007, 0.8523042754025542),\n",
       " (0.25000000000000006, 0.8546839057666376),\n",
       " (0.26000000000000006, 0.8561513444911557),\n",
       " (0.2700000000000001, 0.8573808201792655),\n",
       " (0.2800000000000001, 0.8595621480130087),\n",
       " (0.2900000000000001, 0.861902117871024),\n",
       " (0.3000000000000001, 0.8630126120409296),\n",
       " (0.3100000000000001, 0.864599032283652),\n",
       " (0.3200000000000001, 0.8661457920203062),\n",
       " (0.3300000000000001, 0.8676132307448243),\n",
       " (0.34000000000000014, 0.8689220274450702),\n",
       " (0.35000000000000014, 0.8700721821210439),\n",
       " (0.36000000000000015, 0.8709050527484731),\n",
       " (0.37000000000000016, 0.8730467200761481),\n",
       " (0.38000000000000017, 0.8741175537399857),\n",
       " (0.3900000000000002, 0.8753866899341636),\n",
       " (0.4000000000000002, 0.8759022765130483),\n",
       " (0.4100000000000002, 0.8771714127072261),\n",
       " (0.4200000000000002, 0.8776473387800429),\n",
       " (0.4300000000000002, 0.8786388514317442),\n",
       " (0.4400000000000002, 0.8793130800349013),\n",
       " (0.45000000000000023, 0.8803045926866027),\n",
       " (0.46000000000000024, 0.8810184817958278),\n",
       " (0.47000000000000025, 0.8818116919171889),\n",
       " (0.48000000000000026, 0.8830411676052986),\n",
       " (0.49000000000000027, 0.8838343777266597),\n",
       " (0.5000000000000002, 0.8845482668358848),\n",
       " (0.5100000000000002, 0.8847862298722932),\n",
       " (0.5200000000000002, 0.8854207979693821),\n",
       " (0.5300000000000002, 0.8859760450543349),\n",
       " (0.5400000000000003, 0.8870865392242405),\n",
       " (0.5500000000000003, 0.8876021258031253),\n",
       " (0.5600000000000003, 0.8885143174426906),\n",
       " (0.5700000000000003, 0.8893075275640517),\n",
       " (0.5800000000000003, 0.8902197192036171),\n",
       " (0.5900000000000003, 0.8908542873007059),\n",
       " (0.6000000000000003, 0.8914491948917268),\n",
       " (0.6100000000000003, 0.8923217260252241),\n",
       " (0.6200000000000003, 0.8930356151344491),\n",
       " (0.6300000000000003, 0.8937098437376061),\n",
       " (0.6400000000000003, 0.8947410168953756),\n",
       " (0.6500000000000004, 0.895692869041009),\n",
       " (0.6600000000000004, 0.8968826842230507),\n",
       " (0.6700000000000004, 0.8976758943444119),\n",
       " (0.6800000000000004, 0.898469104465773),\n",
       " (0.6900000000000004, 0.8990640120567939),\n",
       " (0.7000000000000004, 0.8996192591417467),\n",
       " (0.7100000000000004, 0.9000555247084953),\n",
       " (0.7200000000000004, 0.9002934877449036),\n",
       " (0.7300000000000004, 0.9012056793844689),\n",
       " (0.7400000000000004, 0.9020385500118981),\n",
       " (0.7500000000000004, 0.9022368525422384),\n",
       " (0.7600000000000005, 0.9034266677242802),\n",
       " (0.7700000000000005, 0.9042595383517094),\n",
       " (0.7800000000000005, 0.9052113904973428),\n",
       " (0.7900000000000005, 0.9059252796065678),\n",
       " (0.8000000000000005, 0.9064012056793844),\n",
       " (0.8100000000000005, 0.9071150947886095),\n",
       " (0.8200000000000005, 0.9080272864281749),\n",
       " (0.8300000000000005, 0.9085825335131277),\n",
       " (0.8400000000000005, 0.909534385658761),\n",
       " (0.8500000000000005, 0.9101292932497819),\n",
       " (0.8600000000000005, 0.9104465772983263),\n",
       " (0.8700000000000006, 0.9111604664075513),\n",
       " (0.8800000000000006, 0.911557071468232),\n",
       " (0.8900000000000006, 0.9118743555167764),\n",
       " (0.9000000000000006, 0.9122709605774569),\n",
       " (0.9100000000000006, 0.9127468866502737),\n",
       " (0.9200000000000006, 0.9133814547473625),\n",
       " (0.9300000000000006, 0.9137780598080432),\n",
       " (0.9400000000000006, 0.9138573808201793),\n",
       " (0.9500000000000006, 0.9144522884112001),\n",
       " (0.9600000000000006, 0.9148488934718807),\n",
       " (0.9700000000000006, 0.9154438010629016),\n",
       " (0.9800000000000006, 0.915761085111446),\n",
       " (0.9900000000000007, 0.9161576901721266)]"
      ]
     },
     "execution_count": 8,
     "metadata": {},
     "output_type": "execute_result"
    }
   ],
   "source": [
    "lambdas"
   ]
  },
  {
   "cell_type": "code",
   "execution_count": 9,
   "metadata": {},
   "outputs": [
    {
     "data": {
      "application/vnd.jupyter.widget-view+json": {
       "model_id": "8d769c9f41494c629e6ea8dea5a974fb",
       "version_major": 2,
       "version_minor": 0
      },
      "text/plain": [
       "  0%|          | 0/2006 [00:00<?, ?it/s]"
      ]
     },
     "metadata": {},
     "output_type": "display_data"
    },
    {
     "name": "stdout",
     "output_type": "stream",
     "text": [
      "Test Accuracy: 91.77%\n"
     ]
    }
   ],
   "source": [
    "best_lambdas = np.amax(lambdas)\n",
    "test_accuracy = tagger.test(testing, best_lambdas)\n",
    "print(\"Test Accuracy: {:.2%}\".format(test_accuracy))"
   ]
  }
 ],
 "metadata": {
  "deepnote": {
   "is_reactive": false
  },
  "deepnote_execution_queue": [],
  "deepnote_notebook_id": "1c39d1b8-a121-407d-bb2d-a13366ab8c48",
  "kernelspec": {
   "display_name": "Python 3",
   "language": "python",
   "name": "python3"
  },
  "language_info": {
   "codemirror_mode": {
    "name": "ipython",
    "version": 3
   },
   "file_extension": ".py",
   "mimetype": "text/x-python",
   "name": "python",
   "nbconvert_exporter": "python",
   "pygments_lexer": "ipython3",
   "version": "3.9.7"
  }
 },
 "nbformat": 4,
 "nbformat_minor": 4
}
